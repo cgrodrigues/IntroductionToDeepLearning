{
 "cells": [
  {
   "cell_type": "markdown",
   "metadata": {},
   "source": [
    "# Regularization and Dropout\n",
    "\n",
    "In this notebook, we will analyze the regularization and dropout effect in the results of a neural network used to classify pieces of clothing in the well-known Fashion-MNIST dataset (https://github.com/zalandoresearch/fashion-mnist). "
   ]
  },
  {
   "cell_type": "markdown",
   "metadata": {},
   "source": [
    "Let's start loading the neecssary libraries:\n",
    "* Pytorch\n",
    "* Numpy\n",
    "* Torchvision to load the data\n",
    "* Matplotlib to plot results and images\n",
    "* "
   ]
  },
  {
   "cell_type": "code",
   "execution_count": 1,
   "metadata": {},
   "outputs": [],
   "source": [
    "import torch\n",
    "import numpy as np\n",
    "import torchvision\n",
    "import torchvision.transforms as tr\n",
    "import matplotlib.pyplot as plt\n",
    "import torch.nn as nn\n",
    "from sklearn.metrics import confusion_matrix"
   ]
  },
  {
   "cell_type": "markdown",
   "metadata": {},
   "source": [
    "## Load the data\n",
    "\n",
    "The library torchvision is used to load the Fashion-MNIST dataset and then is transformed into tensors that can be used by the torch library. The tensors with the data will be fetched using a dataloader.\n",
    "\n"
   ]
  },
  {
   "cell_type": "code",
   "execution_count": 2,
   "metadata": {},
   "outputs": [],
   "source": [
    "all_tr = tr.Compose([tr.ToTensor()])\n",
    "\n",
    "train_set = torchvision.datasets.FashionMNIST(root=\"./\", download=True, \n",
    "                                              train=True,\n",
    "                                              transform=all_tr)\n",
    "\n",
    "test_set = torchvision.datasets.FashionMNIST(root=\"./\", download=True, \n",
    "                                              train=False,\n",
    "                                              transform=all_tr)\n",
    "\n",
    "train_dataloader = torch.utils.data.DataLoader(train_set, batch_size=50, shuffle=True) # The batch size is 5 but can be increase to better performance.\n",
    "test_dataloader = torch.utils.data.DataLoader(test_set, batch_size=50, shuffle=True) "
   ]
  },
  {
   "cell_type": "markdown",
   "metadata": {},
   "source": [
    "Images in the dataset and its labels:"
   ]
  },
  {
   "cell_type": "code",
   "execution_count": 3,
   "metadata": {},
   "outputs": [
    {
     "name": "stdout",
     "output_type": "stream",
     "text": [
      "Label: 3\n",
      "Label: Dress\n"
     ]
    },
    {
     "data": {
      "image/png": "[encoded data removed]",
      "text/plain": [
       "<Figure size 432x288 with 1 Axes>"
      ]
     },
     "metadata": {
      "needs_background": "light"
     },
     "output_type": "display_data"
    }
   ],
   "source": [
    "# The dataloader will return a iterable over the Fashion-MNIST dataset. Each batch have a set of images (28x28) and its label \n",
    "images, labels = next(iter(train_dataloader))\n",
    "\n",
    "image = images[0]\n",
    "label = labels[0]\n",
    "\n",
    "plt.imshow(image.squeeze(), cmap=\"gray\")\n",
    "print(f'Label: {label.item()}')\n",
    "\n",
    "# The labels need to be transformed to teh correct description:\n",
    "lbl_mapping = {0: 'T-shirt/top', 1:\t'Trouser', 2: 'Pullover', 3: 'Dress', 4: 'Coat', 5: 'Sandal', 6: 'Shirt', 7: 'Sneaker', 8: 'Bag', 9: 'Ankle boot'}\n",
    "print(f'Label: {lbl_mapping[label.item()]}')"
   ]
  },
  {
   "cell_type": "markdown",
   "metadata": {},
   "source": [
    "## The Neural Network"
   ]
  },
  {
   "cell_type": "code",
   "execution_count": 4,
   "metadata": {},
   "outputs": [],
   "source": [
    "# We create a new class \"FFNetwork\" from nn.Module that implement a simple Feed Forward Network\n",
    "class FFNetwork(nn.Module):\n",
    "    # Constructor\n",
    "    def __init__(self):\n",
    "        super().__init__()\n",
    "\n",
    "        # A single hidden layer with 100 units\n",
    "        self.layers = nn.Sequential(\n",
    "            nn.Flatten(),        # Convert 28 x 28 images into a flat tensor\n",
    "            nn.Linear(784, 100), # 28 x 28 = 784 inputs; 100 outputs\n",
    "            nn.ReLU(),           # Add ReLU activation\n",
    "            nn.Linear(100, 10)   # 100 inputs; 10 outputs (10 classes: 'T-shirt/top', 'Trouser', 'Pullover', ..., 'Ankle boot')\n",
    "        )\n",
    "\n",
    "    # Forward method  \n",
    "    def forward(self, x): \n",
    "        # with the input \"x\" evaluet it in the layers of teh network\n",
    "        out = self.layers(x)\n",
    "        return out"
   ]
  },
  {
   "cell_type": "markdown",
   "metadata": {},
   "source": [
    "Without training, what is the prediction of the network?"
   ]
  },
  {
   "cell_type": "code",
   "execution_count": 5,
   "metadata": {},
   "outputs": [
    {
     "name": "stdout",
     "output_type": "stream",
     "text": [
      "Image 0\n",
      "Predited label: Coat\n",
      "Actual label: Dress\n",
      "Image 1\n",
      "Predited label: Coat\n",
      "Actual label: Ankle boot\n",
      "Image 2\n",
      "Predited label: Coat\n",
      "Actual label: Pullover\n",
      "Image 3\n",
      "Predited label: Coat\n",
      "Actual label: T-shirt/top\n",
      "Image 4\n",
      "Predited label: Pullover\n",
      "Actual label: T-shirt/top\n",
      "Image 5\n",
      "Predited label: Pullover\n",
      "Actual label: T-shirt/top\n",
      "Image 6\n",
      "Predited label: Pullover\n",
      "Actual label: Sandal\n",
      "Image 7\n",
      "Predited label: Pullover\n",
      "Actual label: Sneaker\n",
      "Image 8\n",
      "Predited label: Pullover\n",
      "Actual label: Sneaker\n",
      "Image 9\n",
      "Predited label: Pullover\n",
      "Actual label: Sneaker\n"
     ]
    }
   ],
   "source": [
    "# Create an instance of the network\n",
    "ffnet = FFNetwork()\n",
    "\n",
    "# Run the sample through the network\n",
    "output = ffnet(images)\n",
    "\n",
    "# Let's check the first 10 classification\n",
    "for i in range(10): #output.shape[0]\n",
    "    y_hat = torch.argmax(output[i, :]).item()\n",
    "    y = labels[i].item()\n",
    "    print(f'Image {i}')\n",
    "    print(f'Predited label: {lbl_mapping[y_hat]}')\n",
    "    print(f'Actual label: {lbl_mapping[y]}')"
   ]
  },
  {
   "cell_type": "markdown",
   "metadata": {},
   "source": [
    "## Train the network"
   ]
  },
  {
   "cell_type": "code",
   "execution_count": 6,
   "metadata": {},
   "outputs": [
    {
     "name": "stdout",
     "output_type": "stream",
     "text": [
      "   Training epoch: 0\n",
      "   Training epoch: 1\n",
      "   Training epoch: 2\n",
      "   Training epoch: 3\n",
      "   Training epoch: 4\n",
      "   Training epoch: 5\n",
      "   Training epoch: 6\n",
      "   Training epoch: 7\n",
      "   Training epoch: 8\n",
      "   Training epoch: 9\n",
      "   Training epoch: 10\n",
      "   Training epoch: 11\n",
      "   Training epoch: 12\n",
      "   Training epoch: 13\n",
      "   Training epoch: 14\n",
      "   Training epoch: 15\n",
      "   Training epoch: 16\n",
      "   Training epoch: 17\n",
      "   Training epoch: 18\n",
      "   Training epoch: 19\n"
     ]
    },
    {
     "data": {
      "image/png": "[encoded data removed]",
      "text/plain": [
       "<Figure size 432x288 with 1 Axes>"
      ]
     },
     "metadata": {
      "needs_background": "light"
     },
     "output_type": "display_data"
    },
    {
     "data": {
      "image/png": "[encoded data removed]",
      "text/plain": [
       "<Figure size 432x288 with 1 Axes>"
      ]
     },
     "metadata": {
      "needs_background": "light"
     },
     "output_type": "display_data"
    }
   ],
   "source": [
    "def get_predictions(model, dataloader, loss_function=nn.CrossEntropyLoss()):\n",
    "    with torch.no_grad():\n",
    "        y_hat = torch.tensor([])\n",
    "        y = torch.tensor([])\n",
    "\n",
    "        loss = []\n",
    "\n",
    "        for image, label in dataloader:\n",
    "            output = model(image)\n",
    "            l = loss_function(output, label)\n",
    "            loss.append(l)\n",
    "\n",
    "  \n",
    "            # Add them to the tensor\n",
    "            y_hat = torch.cat((y_hat, output.argmax(1)), dim=0)\n",
    "            y = torch.cat((y, label), dim=0)\n",
    "\n",
    "    return y_hat, y, torch.tensor(loss).mean().item()\n",
    "\n",
    "\n",
    "\n",
    "def train(model, train_dataloader, test_dataloader, epochs, loss_function, optimizer):\n",
    "    \n",
    "    # Reset data loader\n",
    "    iter(train_dataloader)\n",
    "    iterations = []\n",
    "    train_loss = []\n",
    "    train_accuracy = []\n",
    "    test_accurancy = []\n",
    "    test_loss = []\n",
    "    for ep in range(epochs):\n",
    "        print(f'   Training epoch: {ep}')\n",
    "        \n",
    "        # Keep track of the loss during training\n",
    "        batch_loss = []\n",
    "        batch_accuracy = []\n",
    "        \n",
    "\n",
    "        # We use our data loader to fetch batches from our dataset\n",
    "        for Xbatch, ybatch in train_dataloader:\n",
    "\n",
    "            # We first zero-out the gradients\n",
    "            optimizer.zero_grad()\n",
    "            \n",
    "            # Compute output\n",
    "            output = ffnet(Xbatch)\n",
    "\n",
    "            # Get loss\n",
    "            l = loss_function(output, ybatch)\n",
    "\n",
    "            # # Get Accuracy\n",
    "            a = (output.argmax(1) == ybatch).sum() / len(ybatch) #* 100 \n",
    "\n",
    "\n",
    "            # Compute gradients\n",
    "            l.backward()\n",
    "\n",
    "            # Perform optimization step\n",
    "            optimizer.step()\n",
    "\n",
    "            batch_loss.append(l)\n",
    "            batch_accuracy.append(a)\n",
    "\n",
    "        iterations.append(ep)\n",
    "        train_loss.append(torch.tensor(batch_loss).mean().item())\n",
    "        train_accuracy.append(torch.tensor(batch_accuracy).mean().item())\n",
    "\n",
    "        test_y_hat, test_y, t_lost = get_predictions(model, test_dataloader, loss_function)\n",
    "        test_loss.append(t_lost)\n",
    "        t_accurancy = (test_y_hat == test_y).sum() / len(test_y)\n",
    "        test_accurancy.append(t_accurancy)\n",
    "        \n",
    "        # print(f'    Training loss: %.4f' % torch.tensor(batch_loss).mean().item())\n",
    "        # print(f'Training accuracy: %.4f' % torch.tensor(batch_accuracy).mean().item())\n",
    "        # print(f'        Test loss: %.4f' % t_lost)\n",
    "        # print(f'    Test accuracy: %.4f' % t_accurancy)\n",
    "\n",
    "    return iterations, train_loss, train_accuracy, test_loss, test_accurancy\n",
    "\n",
    "EPOCHS = 20\n",
    "loss = nn.CrossEntropyLoss()\n",
    "\n",
    "# Define the optimizer. We indicate:\n",
    "#   - What is being optimized (the parameters of the network)\n",
    "#   - The learning rate \n",
    "optimizer = torch.optim.SGD(ffnet.parameters(), lr=0.001)\n",
    "\n",
    "iterations, train_loss, train_accuracy, test_loss, test_accurancy = train(ffnet, train_dataloader, test_dataloader, EPOCHS, loss, optimizer)\n",
    "\n",
    "plt.plot(iterations, train_loss, label=\"Train\")\n",
    "plt.plot(iterations, test_loss, label=\"Test\" )\n",
    "plt.xlabel(\"No. of Iteration\")\n",
    "plt.ylabel(\"Loss\")\n",
    "plt.title(\"Iterations vs Loss\")\n",
    "plt.legend()\n",
    "plt.show()\n",
    "\n",
    "plt.plot(iterations, train_accuracy, label=\"Train\")\n",
    "plt.plot(iterations, test_accurancy, label=\"Test\" )\n",
    "plt.xlabel(\"No. of Iteration\")\n",
    "plt.ylabel(\"Loss\")\n",
    "plt.title(\"Iterations vs Accuracy\")\n",
    "plt.legend()\n",
    "plt.show()"
   ]
  },
  {
   "cell_type": "code",
   "execution_count": 7,
   "metadata": {},
   "outputs": [
    {
     "name": "stdout",
     "output_type": "stream",
     "text": [
      "         Image: 0\n",
      "Predited label: T-shirt/top\n",
      "  Actual label: T-shirt/top\n",
      "         Image: 1\n",
      "Predited label: Bag\n",
      "  Actual label: Shirt\n",
      "         Image: 2\n",
      "Predited label: Dress\n",
      "  Actual label: Dress\n",
      "         Image: 3\n",
      "Predited label: Dress\n",
      "  Actual label: Dress\n",
      "         Image: 4\n",
      "Predited label: Coat\n",
      "  Actual label: Coat\n",
      "         Image: 5\n",
      "Predited label: Ankle boot\n",
      "  Actual label: Ankle boot\n",
      "         Image: 6\n",
      "Predited label: Sneaker\n",
      "  Actual label: Sneaker\n",
      "         Image: 7\n",
      "Predited label: Sneaker\n",
      "  Actual label: Sneaker\n",
      "         Image: 8\n",
      "Predited label: Shirt\n",
      "  Actual label: Pullover\n",
      "         Image: 9\n",
      "Predited label: Bag\n",
      "  Actual label: Shirt\n"
     ]
    }
   ],
   "source": [
    "# Use the test dataset\n",
    "images, labels = next(iter(test_dataloader))\n",
    "\n",
    "# Run the sample through the network\n",
    "output = ffnet(images)\n",
    "\n",
    "# Let's check the first 10 classification\n",
    "for i in range(10): #output.shape[0]\n",
    "    y_hat = torch.argmax(output[i, :]).item()\n",
    "    y = labels[i].item()\n",
    "    print(f'         Image: {i}')\n",
    "    print(f'Predited label: {lbl_mapping[y_hat]}')\n",
    "    print(f'  Actual label: {lbl_mapping[y]}')\n"
   ]
  },
  {
   "cell_type": "markdown",
   "metadata": {},
   "source": [
    "XXXXXXXXXX"
   ]
  },
  {
   "cell_type": "code",
   "execution_count": 8,
   "metadata": {},
   "outputs": [
    {
     "name": "stdout",
     "output_type": "stream",
     "text": [
      "[[4817   79   68  427   29    5  464    1  108    2]\n",
      " [   8 5635  118  195   21    0   21    0    2    0]\n",
      " [  44   18 3854   45 1178    1  781    0   78    1]\n",
      " [ 238  108   34 5082  233    1  277    0   27    0]\n",
      " [   5   19  440  220 4715    2  550    0   48    1]\n",
      " [   7    1    2    6    1 4969    0  635   43  336]\n",
      " [1046   31  706  211  826    1 3018    1  159    1]\n",
      " [   0    0    0    0    0  192    0 5308   14  486]\n",
      " [  10    5   34   62   35   39  160   38 5608    9]\n",
      " [   1    1    1    1    0   78    4  363    5 5546]]\n",
      "Train Accuracy: 0.8091999888420105\n",
      "Train lost: 0.5708541870117188\n",
      "[[779  11  12  73   5   1  98   0  21   0]\n",
      " [  5 932  14  39   8   0   0   0   2   0]\n",
      " [ 15   2 619   9 196   1 143   0  15   0]\n",
      " [ 33  15   4 826  41   1  76   0   4   0]\n",
      " [  0   2  89  31 755   0 116   0   7   0]\n",
      " [  1   0   0   1   0 803   0 120   5  70]\n",
      " [183   4 130  40 141   0 466   0  36   0]\n",
      " [  0   0   0   0   0  32   0 890   0  78]\n",
      " [  0   1  11  11   2   9  24   5 936   1]\n",
      " [  0   0   0   1   0  11   0  53   1 934]]\n",
      "Test Accuracy: 0.7940000295639038\n",
      "Test lost: 0.5935416221618652\n"
     ]
    }
   ],
   "source": [
    "\n",
    "# Reset data loaders\n",
    "iter(train_dataloader)\n",
    "iter(test_dataloader)\n",
    "\n",
    "# Train \n",
    "y_hat, y, train_lost = get_predictions(ffnet, train_dataloader)\n",
    "cm_test = confusion_matrix(y_true=y, y_pred=y_hat)\n",
    "print(cm_test)\n",
    "\n",
    "accuracy = (y_hat == y).sum() / len(y)\n",
    "print('Train Accuracy:', accuracy.item())\n",
    "print('Train lost:', torch.tensor(train_lost).mean().item())\n",
    "\n",
    "# Test \n",
    "y_hat, y, test_lost = get_predictions(ffnet, test_dataloader)\n",
    "cm_test = confusion_matrix(y_true=y, y_pred=y_hat)\n",
    "print(cm_test)\n",
    "\n",
    "accuracy = (y_hat == y).sum() / len(y)\n",
    "print('Test Accuracy:', accuracy.item())\n",
    "print('Test lost:', torch.tensor(test_lost).mean().item())\n",
    "        \n"
   ]
  }
 ],
 "metadata": {
  "kernelspec": {
   "display_name": "Python 3.8.10 64-bit",
   "language": "python",
   "name": "python3"
  },
  "language_info": {
   "codemirror_mode": {
    "name": "ipython",
    "version": 3
   },
   "file_extension": ".py",
   "mimetype": "text/x-python",
   "name": "python",
   "nbconvert_exporter": "python",
   "pygments_lexer": "ipython3",
   "version": "3.8.10"
  },
  "orig_nbformat": 4,
  "vscode": {
   "interpreter": {
    "hash": "190d002eae9b416b1307692f071075c1484e2eed9f673534310a9b781d170d97"
   }
  }
 },
 "nbformat": 4,
 "nbformat_minor": 2
}
